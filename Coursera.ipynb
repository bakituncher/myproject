{
 "cells": [
  {
   "cell_type": "markdown",
   "id": "c87caf75-872e-42ea-a507-a1d15db1beea",
   "metadata": {},
   "source": [
    "# Data Science Notebook"
   ]
  },
  {
   "cell_type": "markdown",
   "id": "0eef1f93-098d-4740-a4f2-554bb78332d3",
   "metadata": {},
   "source": [
    "\n",
    "Introduction\n",
    "This notebook covers fundamental concepts in data science. It includes an overview of programming languages, libraries, and tools, along with some basic arithmetic operations.\n"
   ]
  },
  {
   "cell_type": "markdown",
   "id": "ce082cfc-169f-492f-93a5-6ff10152c49c",
   "metadata": {},
   "source": [
    "Python\n",
    "- R\n",
    "- SQL\n",
    "- Julia\n",
    "- Scala"
   ]
  },
  {
   "cell_type": "markdown",
   "id": "c4451734-8a0c-4a29-964b-4c83edb0d073",
   "metadata": {},
   "source": [
    "NumPy\n",
    "- Pandas\n",
    "- Matplotlib\n",
    "- Scikit-Learn\n",
    "- TensorFlow\n",
    "- PyTorch"
   ]
  },
  {
   "cell_type": "markdown",
   "id": "1acdacc1-9e55-4e36-8a77-38cc6502a39a",
   "metadata": {},
   "source": [
    "| Tool | Description |\n",
    "|------|------------|\n",
    "| Jupyter Notebook | Interactive computing environment |\n",
    "| RStudio | Development environment for R programming |\n",
    "| Apache Spark | Big data processing framework |\n",
    "| Tableau | Data visualization tool |\n",
    "| Google Colab | Cloud-based Python environment |"
   ]
  },
  {
   "cell_type": "markdown",
   "id": "ded04fde-78fd-44d0-bea8-1839ec3ef415",
   "metadata": {},
   "source": [
    "## Arithmetic Expressions\n",
    "Arithmetic operations are used for mathematical calculations. Examples include:\n",
    "- Addition: 3 + 5 = 8\n",
    "- Subtraction: 10 - 4 = 6\n",
    "- Multiplication: 6 * 7 = 42\n",
    "- Division: 15 / 3 = 5"
   ]
  },
  {
   "cell_type": "code",
   "execution_count": 4,
   "id": "a56593f2-a68e-493c-884d-3766d8a612ed",
   "metadata": {},
   "outputs": [
    {
     "name": "stdout",
     "output_type": "stream",
     "text": [
      "Sum: 10\n",
      "Product: 24\n"
     ]
    }
   ],
   "source": [
    "a = 6\n",
    "b = 4\n",
    "sum_result = a + b\n",
    "product_result = a * b\n",
    "print(f\"Sum: {sum_result}\")\n",
    "print(f\"Product: {product_result}\")\n"
   ]
  },
  {
   "cell_type": "code",
   "execution_count": 5,
   "id": "c8adfdf2-a4fd-49bc-8925-311a59052744",
   "metadata": {},
   "outputs": [
    {
     "name": "stdout",
     "output_type": "stream",
     "text": [
      "120 minutes is equal to 2.0 hours.\n"
     ]
    }
   ],
   "source": [
    "minutes = 120\n",
    "hours = minutes / 60\n",
    "\n",
    "print(f\"{minutes} minutes is equal to {hours} hours.\")"
   ]
  },
  {
   "cell_type": "markdown",
   "id": "81d160a6-34b9-43a2-b14e-b1a9396a59dc",
   "metadata": {},
   "source": [
    "- Learn data science tools\n",
    "- Perform data analysis\n",
    "- Build machine learning models\n",
    "- Understand data visualization techniques"
   ]
  },
  {
   "cell_type": "markdown",
   "id": "f7e1a203-1157-47fd-b343-cc48146fdeff",
   "metadata": {},
   "source": [
    "This notebook was prepared by **Baki**"
   ]
  },
  {
   "cell_type": "code",
   "execution_count": null,
   "id": "0f8d0636-978f-4457-9299-7af41ab15453",
   "metadata": {},
   "outputs": [],
   "source": []
  }
 ],
 "metadata": {
  "kernelspec": {
   "display_name": "Python 3 (ipykernel)",
   "language": "python",
   "name": "python3"
  },
  "language_info": {
   "codemirror_mode": {
    "name": "ipython",
    "version": 3
   },
   "file_extension": ".py",
   "mimetype": "text/x-python",
   "name": "python",
   "nbconvert_exporter": "python",
   "pygments_lexer": "ipython3",
   "version": "3.12.7"
  }
 },
 "nbformat": 4,
 "nbformat_minor": 5
}
